{
 "metadata": {
  "name": "",
  "signature": "sha256:90d6eb678542dc9aaa3473bc58cd7dcb6646a08104a74ee3612b454ad9876f3d"
 },
 "nbformat": 3,
 "nbformat_minor": 0,
 "worksheets": [
  {
   "cells": [
    {
     "cell_type": "heading",
     "level": 1,
     "metadata": {},
     "source": [
      "Summary of Part 1"
     ]
    },
    {
     "cell_type": "markdown",
     "metadata": {},
     "source": [
      "\"In this part, we shall deal with such topics as belong traditionally to symbolic logic, or deserve to belong to it in virtue of their generality. We shall, that is to say, establish such properties of propositions, propositional functions, classes, and relations as are likely to be required in any mathematical reasoning, and not merely in this or that branch of mathematics.\"\n",
      "\n",
      "We're going to talk about symbolic logic (http://en.wikipedia.org/wiki/Mathematical_logic#Symbolic_logic), adding abstractions where necessary (functions, classes, etc.) so that we can explain the reasoning behind general mathematics.\n",
      "\n",
      "\"The subjects treated in Part 1 may be viewed in two aspects: (1) as a deductive chain depending on the primitive propositions, \"\n",
      "\n",
      "This is preparing the reader (that's us!) with a couple ways to think about the concepts in this section. This first useful perspective is logic how we most basically might think about it, that we start with some basic assumptions, and build them up deductively... your classic... if a equals b and b equals c, then a equals c kind of logic. We then use what we started with and the logic we build to build more logic.... working from the ground up like a house.\n",
      "\n",
      "\"(2) as a formal calculus.\"\n",
      "\n",
      "This second perspective is hard for me to differentiate from the first. It's still referring generally to logical conclusions, but I think a formal calculus seems more like a huge collection of interconnected rules. The key difference being more in how we're approaching this book than the conclusion we reach from this book. Approaching this section as \"a formal calculus\" would then signify that we're reading the book as one large, cohesive, collection of rules... seeing connections between them as just directional or bidirectional relationships (like a web), instead of a hierarchy (like building a house).\n",
      "\n",
      "I think that he'll end up referring to these two perspectives when introducing ideas. In shorthand, the first referrs to rules building on each other, the other is just rules relating to each other. The house perspective vs the web perspective. I like to break down these concepts into handles like this to make them easier to refer to... so these are the house view and the web view of a new idea.\n",
      "\n",
      "\"Taking the first view first: We begin in \\*1, with certain axioms as to deduction of one proposition or asserted propositional function from another.\"\n",
      "\n",
      "So, this is taking the house view first. (*fistpump*) At first, I thought the \"axioms\" that he was referring to would be the foundation of the house, but the axioms that he's referring to here are those that link different ideas. They're more like the nails and glue that will allow us to connect a foundation to the frame to the roof etc. So, these axioms are starting assumptions that allow us to build a second idea off of one or more other ideas. When I said \"if a equals b, and b equals c, then a equals c\", I was likely referring ot one of these axioms. One could refer to these as \"linking axioms\", \"binding axioms\", \"glue axioms\", or even \"logic axioms\". Good grief this guy is thorough. (I feel like I'll probably be saying that a lot.)\n",
      "\n",
      "\"From these primitive propositions, in Section A, we deduce various propositions which are all connected with four ways of obtaining new propositions from given propositions, namely negation, disjunction, joint assertion and implication, of which the last two can be defined in terms of the first two.\"\n",
      "\n",
      "Well, that was a wordy sentence. (What is wrong with this guy? Give that man a beer and tell him to chill!!!)  So, the \"Part\" is divided into \"Sections\". He's outlining section \"A\". Section A will describe four types of \"logic axioms\" (that we talked about in the previous section). In other words, there are four ways to link propositions (or create new propositions from old ones!!!): negation, disjunction, joint assertion, and implication. Apparently, one can take the first two to express the last two. We'll leave the \"how to\" on that for whenever PM gets around to it. (PM = Principia Mathematica) Things to remember: negation, disjunction, joint assertion, and implication. These are our four types of nails and glue we can use to build our house.\n",
      "\n",
      "\"Throughout this first section, although, as will be shown at the beginning of Section B, our propositions, symbolically unchanged, will apply to any propositions as values of our variables, yet it will be supposed that our variable propositions are all what we shall call \"elementary\" propositions. i.e. such as contain no reference, explicit or implicit, to any totality.\"\n",
      "\n",
      "HA! PM made an even longer sentence! (That sly devil). First, we need to tip our hat to the idea that we will use ideas in Section A that won't be proven until Section B. He then says that he'll be storing propositions as variables... so something like \"Jim loves to eat candy\" can be in a variable.... like so."
     ]
    },
    {
     "cell_type": "code",
     "collapsed": false,
     "input": [
      "x = \"Jim loves to eat candy.\"\n",
      "print x"
     ],
     "language": "python",
     "metadata": {},
     "outputs": [
      {
       "output_type": "stream",
       "stream": "stdout",
       "text": [
        "Jim loves to eat candy.\n"
       ]
      }
     ],
     "prompt_number": 1
    },
    {
     "cell_type": "markdown",
     "metadata": {},
     "source": [
      "(YAY! WE FINALLY GOT TO USE PYTHON!!!) So, then he refines what kinds of propositions will be in variables like that. He limits this use to what he calls \"elementary\" propositions, such as \"contain no reference\", \"explicit\", \"implicit\", or any totality. So, a more accurate python example of these \"variable propositions\" would be something like."
     ]
    },
    {
     "cell_type": "code",
     "collapsed": false,
     "input": [
      "x = \"explicit\"\n",
      "y = \"implicit\"\n",
      "z = \"contain no reference\""
     ],
     "language": "python",
     "metadata": {},
     "outputs": [],
     "prompt_number": 3
    },
    {
     "cell_type": "markdown",
     "metadata": {},
     "source": [
      "Undoubtedly, PM will likely use more interesting variables names than \"x\",\"y\", and \"z\", but I think you get the point. So, just as a reminder of the context. We're living in the world of \"glue axioms\"... So, elementary \"glue propositions\" are a (potentially improper) subset of these that will be referred to using variables. We should probably keep track of which variable mean what \"elementary glue proposition\", lest we get lost. \n",
      "\n",
      "\"This restriction is imposed on account of the distinction between different 'types' of propositions, explained in Chapter II of the Introduction.\" \n",
      "\n",
      "So, PM will be organizing propositions into different groups, and the variable names will help distinguish these groups. Neat!\n",
      "\n",
      "\"Its importance and purpose, however, are purely philosophical, and so long as only mathematical purposes are considered, it is unnecessary to remember this preliminary restriction to elementary propositions, which is symbolically removed at the beginning of the next section\"\n",
      "\n",
      "So basically, who cares what group the proposition is in as long as you know what the proposition is.... sounds like Whiteface and Russelbrand got into an argument and had to make a compromise.... as in 'let's put this in here even though it doesn't matter and we'll stop using it later anyways\"... FAMILY FEUD!!!!\n",
      "\n",
      "...nevermind i don't think they were related...\n",
      "\n",
      "Onto the description of Section B!!!\n",
      "\n",
      "\"Section B deals, to begin with, with the relations of propositions containing apparent variables (i.e. involving the notions of \"all\" or \"some\") to each other and to propositions not containing apparent variables.\"\n",
      "\n",
      "Section B starts using two groups of tools, propositions that contain apparent variables variables and propositions that don't contain apparent variables... \n",
      "\n",
      "A little investigation into \"apparent variables\" almost seems to be referring to a placeholder for variables... with variables (as we might think of them) being referred to as \"real variables\". People later argued that this was pointless... but this sentence really just seems to be dividing propositions into two camps, those with variables and those without them.\n",
      "\n",
      "\"We show that, where propositions containing apparent variables are concerned, we can define negation, disjunction, joint assertion, and implication in such a way that their properties shall be analogous to the properties of the corresponding ideas as applied to elementary propositions.\"\n",
      "\n",
      "The propositions with variables is referring ot higher level propositions containing variables (not elementary.. but bigger propositions with elementary propositions in them). \n",
      "\n",
      "PM is dividing the parts of a non-elementary proposition into two parts, elementary propositions and corresponding ideas. I think that corresponding ideas is basically the \"other stuff\", maybe more like the \"stuff being glued\", where the elementary propositions are the \"glue\". So, this statement says that we can apply negation, disjunction, joint assertion, and implication to a larger proposition by applying it to the elementary parts of the larger proposition. I'm not quite sure how to apply this yet, but I guess that's what the actual section will describe.\n",
      "\n",
      "\"We show also that \"formal implication\", i.e. "
     ]
    },
    {
     "cell_type": "code",
     "collapsed": false,
     "input": [],
     "language": "python",
     "metadata": {},
     "outputs": []
    }
   ],
   "metadata": {}
  }
 ]
}